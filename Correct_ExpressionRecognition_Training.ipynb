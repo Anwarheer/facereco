{
 "cells": [
  {
   "cell_type": "markdown",
   "metadata": {
    "id": "_cVszeGY6PZy"
   },
   "source": [
    "Lesson 4"
   ]
  },
  {
   "cell_type": "code",
   "execution_count": 1,
   "metadata": {
    "colab": {
     "base_uri": "https://localhost:8080/"
    },
    "executionInfo": {
     "elapsed": 5640,
     "status": "ok",
     "timestamp": 1615451751013,
     "user": {
      "displayName": "Abhilash Chintada",
      "photoUrl": "https://lh3.googleusercontent.com/a-/AOh14GhlwwwMJr16CgjmRFWk833xZEy2OfpaFZDIqM84=s64",
      "userId": "00311744807213723199"
     },
     "user_tz": -330
    },
    "id": "8_6K1O3-NO5J",
    "outputId": "8a2b99a4-d2a1-4cf5-e2ac-df78825c9315"
   },
   "outputs": [
    {
     "name": "stdout",
     "output_type": "stream",
     "text": [
      "--2024-11-27 15:40:59--  https://www.dropbox.com/s/si11cws2pyho1bp/archive.zip\n",
      "Resolving www.dropbox.com (www.dropbox.com)... 162.125.64.18, 2620:100:6031:18::a27d:5112\n",
      "Connecting to www.dropbox.com (www.dropbox.com)|162.125.64.18|:443... connected.\n",
      "HTTP request sent, awaiting response... 302 Found\n",
      "Location: https://www.dropbox.com/scl/fi/x9eaye2fanuc005ucprmq/archive.zip?rlkey=fawlx24mxtnicc8f65kd5ufap [following]\n",
      "--2024-11-27 15:41:00--  https://www.dropbox.com/scl/fi/x9eaye2fanuc005ucprmq/archive.zip?rlkey=fawlx24mxtnicc8f65kd5ufap\n",
      "Reusing existing connection to www.dropbox.com:443.\n",
      "HTTP request sent, awaiting response... 302 Found\n",
      "Location: https://uc86e2612506650e24bca96f27c4.dl.dropboxusercontent.com/cd/0/inline/CfK1yx2tXKHXt2lzBfF48b8_bRMyAU_Ck7ZK8qfqQarT6NKqvuBm4UjeRlByT8I5526MfieZajmeXeL3uNCYZXt3AMM03aapQbUITSiDZRM7RkKCrqclXJO3ynFgBJsUkn2mnOBdrweFzyjG5cmdHAMW/file# [following]\n",
      "--2024-11-27 15:41:01--  https://uc86e2612506650e24bca96f27c4.dl.dropboxusercontent.com/cd/0/inline/CfK1yx2tXKHXt2lzBfF48b8_bRMyAU_Ck7ZK8qfqQarT6NKqvuBm4UjeRlByT8I5526MfieZajmeXeL3uNCYZXt3AMM03aapQbUITSiDZRM7RkKCrqclXJO3ynFgBJsUkn2mnOBdrweFzyjG5cmdHAMW/file\n",
      "Resolving uc86e2612506650e24bca96f27c4.dl.dropboxusercontent.com (uc86e2612506650e24bca96f27c4.dl.dropboxusercontent.com)... 162.125.64.15, 2620:100:6031:15::a27d:510f\n",
      "Connecting to uc86e2612506650e24bca96f27c4.dl.dropboxusercontent.com (uc86e2612506650e24bca96f27c4.dl.dropboxusercontent.com)|162.125.64.15|:443... connected.\n",
      "HTTP request sent, awaiting response... 302 Found\n",
      "Location: /cd/0/inline2/CfLk_yQbv0gQXCOFRfPHRBc4T0MNK78uGRFDbY1CL0Xr8xeFHYYdBDHg-Ure1CuonpYLAtTy9iFBH3s9c6tXNb-VU-4-g_dPfTDwHP4AiVd2K81MNxwhkGesZ4s3fCrXnbHgIOhg3thSTMiOiU9kvslVQ2kWLN6OWU4BktRoyuoSYMpipdAnsyS4hrTM9jwVaLzEgy2w3rQ_bmstjofd2bCnwa9bI7h2guy6m1TC7B3W3pKxM0D20cjG7t0bslfX8qqo7gKA6xNEwA3yg8LCbuNyW8uL3Kr68TbZdSko5tlL78jJAcNPEWCytgC2Rtp71qVVZWdyQJdpMMpjS9amwhnes5WIU8W7B9kJem6d3_pRt9ri5QQvRtc1ZfUui-DRfVE/file [following]\n",
      "--2024-11-27 15:41:02--  https://uc86e2612506650e24bca96f27c4.dl.dropboxusercontent.com/cd/0/inline2/CfLk_yQbv0gQXCOFRfPHRBc4T0MNK78uGRFDbY1CL0Xr8xeFHYYdBDHg-Ure1CuonpYLAtTy9iFBH3s9c6tXNb-VU-4-g_dPfTDwHP4AiVd2K81MNxwhkGesZ4s3fCrXnbHgIOhg3thSTMiOiU9kvslVQ2kWLN6OWU4BktRoyuoSYMpipdAnsyS4hrTM9jwVaLzEgy2w3rQ_bmstjofd2bCnwa9bI7h2guy6m1TC7B3W3pKxM0D20cjG7t0bslfX8qqo7gKA6xNEwA3yg8LCbuNyW8uL3Kr68TbZdSko5tlL78jJAcNPEWCytgC2Rtp71qVVZWdyQJdpMMpjS9amwhnes5WIU8W7B9kJem6d3_pRt9ri5QQvRtc1ZfUui-DRfVE/file\n",
      "Reusing existing connection to uc86e2612506650e24bca96f27c4.dl.dropboxusercontent.com:443.\n",
      "HTTP request sent, awaiting response... 200 OK\n",
      "Length: 63252113 (60M) [application/zip]\n",
      "Saving to: ‘archive.zip.1’\n",
      "\n",
      "archive.zip.1       100%[===================>]  60.32M  3.61MB/s    in 19s     \n",
      "\n",
      "2024-11-27 15:41:22 (3.21 MB/s) - ‘archive.zip.1’ saved [63252113/63252113]\n",
      "\n"
     ]
    }
   ],
   "source": [
    "!wget https://www.dropbox.com/s/si11cws2pyho1bp/archive.zip"
   ]
  },
  {
   "cell_type": "code",
   "execution_count": 2,
   "metadata": {
    "id": "BQT_DQsTPDzB"
   },
   "outputs": [
    {
     "name": "stdout",
     "output_type": "stream",
     "text": [
      "unzip:  cannot find or open /content/archive.zip, /content/archive.zip.zip or /content/archive.zip.ZIP.\r\n"
     ]
    }
   ],
   "source": [
    "!unzip -q \"/content/archive.zip\""
   ]
  },
  {
   "cell_type": "code",
   "execution_count": 3,
   "metadata": {
    "id": "bbucsZPQhcps"
   },
   "outputs": [
    {
     "ename": "ModuleNotFoundError",
     "evalue": "No module named 'tensorflow'",
     "output_type": "error",
     "traceback": [
      "\u001b[0;31m---------------------------------------------------------------------------\u001b[0m",
      "\u001b[0;31mModuleNotFoundError\u001b[0m                       Traceback (most recent call last)",
      "Cell \u001b[0;32mIn[3], line 2\u001b[0m\n\u001b[1;32m      1\u001b[0m \u001b[38;5;66;03m# Imports required for this project\u001b[39;00m\n\u001b[0;32m----> 2\u001b[0m \u001b[38;5;28;01mimport\u001b[39;00m \u001b[38;5;21;01mtensorflow\u001b[39;00m \u001b[38;5;28;01mas\u001b[39;00m \u001b[38;5;21;01mtf\u001b[39;00m\n\u001b[1;32m      3\u001b[0m \u001b[38;5;28;01mimport\u001b[39;00m \u001b[38;5;21;01mnumpy\u001b[39;00m \u001b[38;5;28;01mas\u001b[39;00m \u001b[38;5;21;01mnp\u001b[39;00m\n\u001b[1;32m      4\u001b[0m \u001b[38;5;28;01mimport\u001b[39;00m \u001b[38;5;21;01mmatplotlib\u001b[39;00m\u001b[38;5;21;01m.\u001b[39;00m\u001b[38;5;21;01mpyplot\u001b[39;00m \u001b[38;5;28;01mas\u001b[39;00m \u001b[38;5;21;01mplt\u001b[39;00m\n",
      "\u001b[0;31mModuleNotFoundError\u001b[0m: No module named 'tensorflow'"
     ]
    }
   ],
   "source": [
    "# Imports required for this project\n",
    "import tensorflow as tf\n",
    "import numpy as np\n",
    "import matplotlib.pyplot as plt\n",
    "from pathlib import Path\n",
    "\n",
    "tf.random.set_seed(4)"
   ]
  },
  {
   "cell_type": "code",
   "execution_count": null,
   "metadata": {
    "id": "2USniwjMjJlq"
   },
   "outputs": [],
   "source": [
    "# Creating the Pathlib PATH objects\n",
    "train_path = Path(\"/content/train\")\n",
    "test_path = Path(\"/content/test\")"
   ]
  },
  {
   "cell_type": "code",
   "execution_count": null,
   "metadata": {
    "colab": {
     "base_uri": "https://localhost:8080/"
    },
    "executionInfo": {
     "elapsed": 2146,
     "status": "ok",
     "timestamp": 1615046874506,
     "user": {
      "displayName": "Abhilash Chintada",
      "photoUrl": "https://lh3.googleusercontent.com/a-/AOh14GhlwwwMJr16CgjmRFWk833xZEy2OfpaFZDIqM84=s64",
      "userId": "00311744807213723199"
     },
     "user_tz": -330
    },
    "id": "CY8kbQwokLyR",
    "outputId": "8175446d-653e-428a-b44b-fbd04453ab28"
   },
   "outputs": [],
   "source": [
    "# Getting Image paths \n",
    "train_image_paths = list(train_path.glob(\"*/*\"))\n",
    "train_image_paths = list(map(lambda x : str(x) , train_image_paths))\n",
    "\n",
    "train_image_paths[:10]"
   ]
  },
  {
   "cell_type": "code",
   "execution_count": null,
   "metadata": {
    "colab": {
     "base_uri": "https://localhost:8080/"
    },
    "executionInfo": {
     "elapsed": 2429,
     "status": "ok",
     "timestamp": 1615046874936,
     "user": {
      "displayName": "Abhilash Chintada",
      "photoUrl": "https://lh3.googleusercontent.com/a-/AOh14GhlwwwMJr16CgjmRFWk833xZEy2OfpaFZDIqM84=s64",
      "userId": "00311744807213723199"
     },
     "user_tz": -330
    },
    "id": "nHGWNSp8kcLr",
    "outputId": "a6d37a3d-cd61-45f4-d15d-a2624c519654"
   },
   "outputs": [],
   "source": [
    "# Getting their respective labels \n",
    "\n",
    "def get_label(image_path):\n",
    "    return image_path.split(\"/\")[-2]\n",
    "\n",
    "train_image_labels = list(map(lambda x : get_label(x) , train_image_paths))\n",
    "train_image_labels[:10]"
   ]
  },
  {
   "cell_type": "code",
   "execution_count": null,
   "metadata": {
    "colab": {
     "base_uri": "https://localhost:8080/"
    },
    "executionInfo": {
     "elapsed": 1432,
     "status": "ok",
     "timestamp": 1615046876504,
     "user": {
      "displayName": "Abhilash Chintada",
      "photoUrl": "https://lh3.googleusercontent.com/a-/AOh14GhlwwwMJr16CgjmRFWk833xZEy2OfpaFZDIqM84=s64",
      "userId": "00311744807213723199"
     },
     "user_tz": -330
    },
    "id": "DtBFz9NfknrJ",
    "outputId": "4fcbf1c8-cd7b-4969-9f36-d4c2ad8856af"
   },
   "outputs": [],
   "source": [
    "from sklearn.preprocessing import LabelEncoder \n",
    "\n",
    "Le = LabelEncoder()\n",
    "train_image_labels = Le.fit_transform(train_image_labels)\n",
    "\n",
    "train_image_labels[:10]"
   ]
  },
  {
   "cell_type": "code",
   "execution_count": null,
   "metadata": {
    "colab": {
     "base_uri": "https://localhost:8080/"
    },
    "executionInfo": {
     "elapsed": 1268,
     "status": "ok",
     "timestamp": 1615046876506,
     "user": {
      "displayName": "Abhilash Chintada",
      "photoUrl": "https://lh3.googleusercontent.com/a-/AOh14GhlwwwMJr16CgjmRFWk833xZEy2OfpaFZDIqM84=s64",
      "userId": "00311744807213723199"
     },
     "user_tz": -330
    },
    "id": "HS6UTHa7T-Et",
    "outputId": "7493f6c9-4c7b-412b-a059-50d8f8f076f7"
   },
   "outputs": [],
   "source": [
    "train_image_labels = tf.keras.utils.to_categorical(train_image_labels)\n",
    "\n",
    "train_image_labels[:10]"
   ]
  },
  {
   "cell_type": "code",
   "execution_count": null,
   "metadata": {
    "id": "Ji1Weit-lVDU"
   },
   "outputs": [],
   "source": [
    "from sklearn.model_selection import train_test_split \n",
    "\n",
    "Train_paths , Val_paths , Train_labels , Val_labels = train_test_split(train_image_paths , train_image_labels , test_size = 0.25)"
   ]
  },
  {
   "cell_type": "code",
   "execution_count": null,
   "metadata": {
    "colab": {
     "base_uri": "https://localhost:8080/"
    },
    "executionInfo": {
     "elapsed": 553,
     "status": "ok",
     "timestamp": 1615046877815,
     "user": {
      "displayName": "Abhilash Chintada",
      "photoUrl": "https://lh3.googleusercontent.com/a-/AOh14GhlwwwMJr16CgjmRFWk833xZEy2OfpaFZDIqM84=s64",
      "userId": "00311744807213723199"
     },
     "user_tz": -330
    },
    "id": "VTaelfZtZ27-",
    "outputId": "01db29f8-7867-4dfa-cb8e-14171e4dc27d"
   },
   "outputs": [],
   "source": [
    "# Compute class weights \n",
    "\n",
    "classTotals = Train_labels.sum(axis=0)\n",
    "classWeight = classTotals.max() / classTotals\n",
    "\n",
    "class_weight = {e : weight for e , weight in enumerate(classWeight)}\n",
    "print(class_weight)"
   ]
  },
  {
   "cell_type": "markdown",
   "metadata": {
    "id": "wHd7EARA6NSl"
   },
   "source": [
    "Lesson 5"
   ]
  },
  {
   "cell_type": "code",
   "execution_count": null,
   "metadata": {
    "id": "WayfB4DUlwwP"
   },
   "outputs": [],
   "source": [
    "# Function used for Transformation\n",
    "\n",
    "def load(image , label):\n",
    "    image = tf.io.read_file(image)\n",
    "    image = tf.io.decode_jpeg(image , channels = 3)\n",
    "    return image , label"
   ]
  },
  {
   "cell_type": "code",
   "execution_count": null,
   "metadata": {
    "id": "4oJwdwPnR2iI"
   },
   "outputs": [],
   "source": [
    "# Define IMAGE SIZE and BATCH SIZE \n",
    "IMG_SIZE = 96 \n",
    "BATCH_SIZE = 32\n",
    "\n",
    "# Basic Transformation\n",
    "resize = tf.keras.Sequential([\n",
    "    tf.keras.layers.experimental.preprocessing.Resizing(IMG_SIZE, IMG_SIZE)          \n",
    "])\n",
    "\n",
    "# Data Augmentation\n",
    "data_augmentation = tf.keras.Sequential([\n",
    "    tf.keras.layers.experimental.preprocessing.RandomFlip(\"horizontal\"),\n",
    "    tf.keras.layers.experimental.preprocessing.RandomRotation(0.1),\n",
    "    tf.keras.layers.experimental.preprocessing.RandomZoom(height_factor = (-0.1, -0.05))\n",
    "])"
   ]
  },
  {
   "cell_type": "code",
   "execution_count": null,
   "metadata": {
    "id": "rR4A_FLKl9Cp"
   },
   "outputs": [],
   "source": [
    "# Function used to Create a Tensorflow Data Object\n",
    "AUTOTUNE = tf.data.experimental.AUTOTUNE\n",
    "def get_dataset(paths , labels , train = True):\n",
    "    image_paths = tf.convert_to_tensor(paths)\n",
    "    labels = tf.convert_to_tensor(labels)\n",
    "\n",
    "    image_dataset = tf.data.Dataset.from_tensor_slices(image_paths)\n",
    "    label_dataset = tf.data.Dataset.from_tensor_slices(labels)\n",
    "\n",
    "    dataset = tf.data.Dataset.zip((image_dataset , label_dataset))\n",
    "\n",
    "    dataset = dataset.map(lambda image , label : load(image , label))\n",
    "    dataset = dataset.map(lambda image, label: (resize(image), label) , num_parallel_calls=AUTOTUNE)\n",
    "    dataset = dataset.shuffle(1000)\n",
    "    dataset = dataset.batch(BATCH_SIZE)\n",
    "\n",
    "    if train:\n",
    "        dataset = dataset.map(lambda image, label: (data_augmentation(image), label) , num_parallel_calls=AUTOTUNE)\n",
    "    \n",
    "    dataset = dataset.repeat()\n",
    "    return dataset"
   ]
  },
  {
   "cell_type": "code",
   "execution_count": null,
   "metadata": {
    "colab": {
     "base_uri": "https://localhost:8080/"
    },
    "executionInfo": {
     "elapsed": 4228,
     "status": "ok",
     "timestamp": 1615019514837,
     "user": {
      "displayName": "Abhilash Chintada",
      "photoUrl": "https://lh3.googleusercontent.com/a-/AOh14GhlwwwMJr16CgjmRFWk833xZEy2OfpaFZDIqM84=s64",
      "userId": "00311744807213723199"
     },
     "user_tz": -330
    },
    "id": "eXbkOIjjoZo4",
    "outputId": "589006e9-4239-4be7-a5ff-934584f5f258"
   },
   "outputs": [],
   "source": [
    "# Creating Train Dataset object and Verifying it\n",
    "%time train_dataset = get_dataset(Train_paths , Train_labels)\n",
    "\n",
    "image , label = next(iter(train_dataset))\n",
    "print(image.shape)\n",
    "print(label.shape)"
   ]
  },
  {
   "cell_type": "code",
   "execution_count": null,
   "metadata": {
    "colab": {
     "base_uri": "https://localhost:8080/",
     "height": 302
    },
    "executionInfo": {
     "elapsed": 4213,
     "status": "ok",
     "timestamp": 1615019514838,
     "user": {
      "displayName": "Abhilash Chintada",
      "photoUrl": "https://lh3.googleusercontent.com/a-/AOh14GhlwwwMJr16CgjmRFWk833xZEy2OfpaFZDIqM84=s64",
      "userId": "00311744807213723199"
     },
     "user_tz": -330
    },
    "id": "qmEunSLQrmoy",
    "outputId": "8653d6c2-4d1b-4c96-a307-1c4b830ccc0c"
   },
   "outputs": [],
   "source": [
    "# View a sample Training Image\n",
    "print(Le.inverse_transform(np.argmax(label , axis = 1))[0])\n",
    "plt.imshow((image[0].numpy()/255).reshape(96 , 96 , 3))"
   ]
  },
  {
   "cell_type": "code",
   "execution_count": null,
   "metadata": {
    "colab": {
     "base_uri": "https://localhost:8080/"
    },
    "executionInfo": {
     "elapsed": 4957,
     "status": "ok",
     "timestamp": 1615019515596,
     "user": {
      "displayName": "Abhilash Chintada",
      "photoUrl": "https://lh3.googleusercontent.com/a-/AOh14GhlwwwMJr16CgjmRFWk833xZEy2OfpaFZDIqM84=s64",
      "userId": "00311744807213723199"
     },
     "user_tz": -330
    },
    "id": "Xi9IJStcoc6M",
    "outputId": "9ab3e301-960c-439d-ed89-06f129379a8f"
   },
   "outputs": [],
   "source": [
    "%time val_dataset = get_dataset(Val_paths , Val_labels , train = False)\n",
    "\n",
    "image , label = next(iter(val_dataset))\n",
    "print(image.shape)\n",
    "print(label.shape)"
   ]
  },
  {
   "cell_type": "code",
   "execution_count": null,
   "metadata": {
    "colab": {
     "base_uri": "https://localhost:8080/",
     "height": 302
    },
    "executionInfo": {
     "elapsed": 4945,
     "status": "ok",
     "timestamp": 1615019515598,
     "user": {
      "displayName": "Abhilash Chintada",
      "photoUrl": "https://lh3.googleusercontent.com/a-/AOh14GhlwwwMJr16CgjmRFWk833xZEy2OfpaFZDIqM84=s64",
      "userId": "00311744807213723199"
     },
     "user_tz": -330
    },
    "id": "b_gqj-vjvErp",
    "outputId": "eddbd76e-81be-4c81-84ce-01e6ee909cd0"
   },
   "outputs": [],
   "source": [
    "# View a sample Validation Image\n",
    "print(Le.inverse_transform(np.argmax(label , axis = 1))[0])\n",
    "plt.imshow((image[0].numpy()/255).reshape(96 , 96 , 3))"
   ]
  },
  {
   "cell_type": "code",
   "execution_count": null,
   "metadata": {
    "colab": {
     "base_uri": "https://localhost:8080/"
    },
    "executionInfo": {
     "elapsed": 7539,
     "status": "ok",
     "timestamp": 1615019518202,
     "user": {
      "displayName": "Abhilash Chintada",
      "photoUrl": "https://lh3.googleusercontent.com/a-/AOh14GhlwwwMJr16CgjmRFWk833xZEy2OfpaFZDIqM84=s64",
      "userId": "00311744807213723199"
     },
     "user_tz": -330
    },
    "id": "9e32BWRjUuV6",
    "outputId": "97e9f030-bb28-4e45-df27-76504ed07433"
   },
   "outputs": [],
   "source": [
    "# Building EfficientNet model\n",
    "from tensorflow.keras.applications import EfficientNetB2\n",
    "\n",
    "backbone = EfficientNetB2(\n",
    "    input_shape=(96, 96, 3),\n",
    "    include_top=False\n",
    ")\n",
    "\n",
    "model = tf.keras.Sequential([\n",
    "    backbone,\n",
    "    tf.keras.layers.GlobalAveragePooling2D(),\n",
    "    tf.keras.layers.Dropout(0.3),\n",
    "    tf.keras.layers.Dense(128, activation='relu'),\n",
    "    tf.keras.layers.Dense(7, activation='softmax')\n",
    "])\n",
    "\n",
    "model.summary()"
   ]
  },
  {
   "cell_type": "code",
   "execution_count": null,
   "metadata": {
    "id": "crnP0rolUy0O"
   },
   "outputs": [],
   "source": [
    "# Compiling your model by providing the Optimizer , Loss and Metrics\n",
    "model.compile(\n",
    "    optimizer=tf.keras.optimizers.Adam(learning_rate=0.001, beta_1=0.9, beta_2=0.999, epsilon=1e-07),\n",
    "    loss = 'categorical_crossentropy',\n",
    "    metrics=['accuracy' , tf.keras.metrics.Precision(name='precision'),tf.keras.metrics.Recall(name='recall')]\n",
    ")"
   ]
  },
  {
   "cell_type": "code",
   "execution_count": null,
   "metadata": {
    "colab": {
     "base_uri": "https://localhost:8080/"
    },
    "executionInfo": {
     "elapsed": 1150430,
     "status": "ok",
     "timestamp": 1615020661119,
     "user": {
      "displayName": "Abhilash Chintada",
      "photoUrl": "https://lh3.googleusercontent.com/a-/AOh14GhlwwwMJr16CgjmRFWk833xZEy2OfpaFZDIqM84=s64",
      "userId": "00311744807213723199"
     },
     "user_tz": -330
    },
    "id": "bATVPoL4xtyJ",
    "outputId": "665b4ce3-0143-42ee-8253-568309a34c25"
   },
   "outputs": [],
   "source": [
    "# Train the model\n",
    "history = model.fit(\n",
    "    train_dataset,\n",
    "    steps_per_epoch=len(Train_paths)//BATCH_SIZE,\n",
    "    epochs=12,\n",
    "    validation_data=val_dataset,\n",
    "    validation_steps = len(Val_paths)//BATCH_SIZE,\n",
    "    class_weight=class_weight\n",
    ")"
   ]
  },
  {
   "cell_type": "code",
   "execution_count": null,
   "metadata": {
    "id": "28vylx4DyDBS"
   },
   "outputs": [],
   "source": [
    "model.layers[0].trainable = False"
   ]
  },
  {
   "cell_type": "code",
   "execution_count": null,
   "metadata": {
    "id": "U8r6G0RVU3c2"
   },
   "outputs": [],
   "source": [
    "# Defining our callbacks \n",
    "checkpoint = tf.keras.callbacks.ModelCheckpoint(\"best_weights.h5\",verbose=1,save_best_only=True,save_weights_only = True)\n",
    "early_stop = tf.keras.callbacks.EarlyStopping(patience=4)"
   ]
  },
  {
   "cell_type": "code",
   "execution_count": null,
   "metadata": {
    "colab": {
     "base_uri": "https://localhost:8080/"
    },
    "executionInfo": {
     "elapsed": 1150722,
     "status": "ok",
     "timestamp": 1615020661432,
     "user": {
      "displayName": "Abhilash Chintada",
      "photoUrl": "https://lh3.googleusercontent.com/a-/AOh14GhlwwwMJr16CgjmRFWk833xZEy2OfpaFZDIqM84=s64",
      "userId": "00311744807213723199"
     },
     "user_tz": -330
    },
    "id": "Gn0a29MW0s5c",
    "outputId": "7df14fc1-9222-466c-8329-28e992091906"
   },
   "outputs": [],
   "source": [
    "model.summary()"
   ]
  },
  {
   "cell_type": "code",
   "execution_count": null,
   "metadata": {
    "colab": {
     "base_uri": "https://localhost:8080/"
    },
    "executionInfo": {
     "elapsed": 1893079,
     "status": "ok",
     "timestamp": 1615021403796,
     "user": {
      "displayName": "Abhilash Chintada",
      "photoUrl": "https://lh3.googleusercontent.com/a-/AOh14GhlwwwMJr16CgjmRFWk833xZEy2OfpaFZDIqM84=s64",
      "userId": "00311744807213723199"
     },
     "user_tz": -330
    },
    "id": "1IeOU2kKU5OT",
    "outputId": "41d7cd64-7633-42e9-ead2-75c3ee904fcc"
   },
   "outputs": [],
   "source": [
    "# Train the model\n",
    "history = model.fit(\n",
    "    train_dataset,\n",
    "    steps_per_epoch=len(Train_paths)//BATCH_SIZE,\n",
    "    epochs=8,\n",
    "    callbacks=[checkpoint , early_stop],\n",
    "    validation_data=val_dataset,\n",
    "    validation_steps = len(Val_paths)//BATCH_SIZE,\n",
    "    class_weight=class_weight\n",
    ")"
   ]
  },
  {
   "cell_type": "markdown",
   "metadata": {
    "id": "vU6Sq7xag7t8"
   },
   "source": [
    "Testing Phase"
   ]
  },
  {
   "cell_type": "code",
   "execution_count": null,
   "metadata": {
    "id": "71WlFdcafnAc"
   },
   "outputs": [],
   "source": [
    "from tensorflow.keras.applications import EfficientNetB2\n",
    "\n",
    "backbone = EfficientNetB2(\n",
    "    input_shape=(96, 96, 3),\n",
    "    include_top=False\n",
    ")\n",
    "\n",
    "model = tf.keras.Sequential([\n",
    "    backbone,\n",
    "    tf.keras.layers.GlobalAveragePooling2D(),\n",
    "    tf.keras.layers.Dropout(0.3),\n",
    "    tf.keras.layers.Dense(128, activation='relu'),\n",
    "    tf.keras.layers.Dense(7, activation='softmax')\n",
    "])\n",
    "\n",
    "model.compile(\n",
    "    optimizer=tf.keras.optimizers.Adam(learning_rate=0.001, beta_1=0.9, beta_2=0.999, epsilon=1e-07),\n",
    "    loss = 'categorical_crossentropy',\n",
    "    metrics=['accuracy' , tf.keras.metrics.Precision(name='precision'),tf.keras.metrics.Recall(name='recall')]\n",
    ")"
   ]
  },
  {
   "cell_type": "code",
   "execution_count": null,
   "metadata": {
    "id": "kh91u_fgyKyL"
   },
   "outputs": [],
   "source": [
    "model.load_weights(\"best_weights.h5\")"
   ]
  },
  {
   "cell_type": "code",
   "execution_count": null,
   "metadata": {
    "id": "zaIUk_NRVJVJ"
   },
   "outputs": [],
   "source": [
    "# Create a Dataset Object for 'Testing' Set just the way we did for Training and Validation\n",
    "test_image_paths = list(test_path.glob(\"*/*\"))\n",
    "test_image_paths = list(map(lambda x : str(x) , test_image_paths))\n",
    "test_labels = list(map(lambda x : get_label(x) , test_image_paths))\n",
    "\n",
    "test_labels = Le.transform(test_labels)\n",
    "test_labels = tf.keras.utils.to_categorical(test_labels)\n",
    "\n",
    "test_image_paths = tf.convert_to_tensor(test_image_paths)\n",
    "test_labels = tf.convert_to_tensor(test_labels)\n",
    "\n",
    "def decode_image(image , label):\n",
    "    image = tf.io.read_file(image)\n",
    "    image = tf.io.decode_jpeg(image , channels = 3)\n",
    "    image = tf.image.resize(image , [96 , 96] , method=\"bilinear\")\n",
    "    return image , label\n",
    "\n",
    "test_dataset = (\n",
    "     tf.data.Dataset\n",
    "    .from_tensor_slices((test_image_paths, test_labels))\n",
    "    .map(decode_image)\n",
    "    .batch(BATCH_SIZE)\n",
    ")"
   ]
  },
  {
   "cell_type": "code",
   "execution_count": null,
   "metadata": {
    "colab": {
     "base_uri": "https://localhost:8080/"
    },
    "executionInfo": {
     "elapsed": 1897412,
     "status": "ok",
     "timestamp": 1615021408157,
     "user": {
      "displayName": "Abhilash Chintada",
      "photoUrl": "https://lh3.googleusercontent.com/a-/AOh14GhlwwwMJr16CgjmRFWk833xZEy2OfpaFZDIqM84=s64",
      "userId": "00311744807213723199"
     },
     "user_tz": -330
    },
    "id": "uBIDOhxee0My",
    "outputId": "907c4b20-1a2e-4ab6-bd73-63b741f027bc"
   },
   "outputs": [],
   "source": [
    "# Verify Test Dataset Object\n",
    "image , label = next(iter(test_dataset))\n",
    "print(image.shape)\n",
    "print(label.shape)"
   ]
  },
  {
   "cell_type": "code",
   "execution_count": null,
   "metadata": {
    "colab": {
     "base_uri": "https://localhost:8080/",
     "height": 302
    },
    "executionInfo": {
     "elapsed": 1897407,
     "status": "ok",
     "timestamp": 1615021408158,
     "user": {
      "displayName": "Abhilash Chintada",
      "photoUrl": "https://lh3.googleusercontent.com/a-/AOh14GhlwwwMJr16CgjmRFWk833xZEy2OfpaFZDIqM84=s64",
      "userId": "00311744807213723199"
     },
     "user_tz": -330
    },
    "id": "4ZGD3ogge2V-",
    "outputId": "4cda3bbf-c659-4167-be25-0add08b6befc"
   },
   "outputs": [],
   "source": [
    "# View a sample Validation Image\n",
    "print(Le.inverse_transform(np.argmax(label , axis = 1))[0])\n",
    "plt.imshow((image[0].numpy()/255).reshape(96 , 96 , 3))"
   ]
  },
  {
   "cell_type": "code",
   "execution_count": null,
   "metadata": {
    "colab": {
     "base_uri": "https://localhost:8080/"
    },
    "executionInfo": {
     "elapsed": 1905865,
     "status": "ok",
     "timestamp": 1615021416622,
     "user": {
      "displayName": "Abhilash Chintada",
      "photoUrl": "https://lh3.googleusercontent.com/a-/AOh14GhlwwwMJr16CgjmRFWk833xZEy2OfpaFZDIqM84=s64",
      "userId": "00311744807213723199"
     },
     "user_tz": -330
    },
    "id": "H8nmdlL5e4LB",
    "outputId": "6c223304-4c62-4410-b267-ad9c0b3dc357"
   },
   "outputs": [],
   "source": [
    "# Evaluating the loaded model\n",
    "loss, acc, prec, rec = model.evaluate(test_dataset)\n",
    "\n",
    "print(\" Testing Acc : \" , acc)\n",
    "print(\" Testing Precision \" , prec)\n",
    "print(\" Testing Recall \" , rec)"
   ]
  },
  {
   "cell_type": "markdown",
   "metadata": {
    "id": "EvKEpP1yaX8u"
   },
   "source": [
    "Save Objects"
   ]
  },
  {
   "cell_type": "code",
   "execution_count": null,
   "metadata": {
    "id": "6FG-gDVcaZgN"
   },
   "outputs": [],
   "source": [
    "# Save Model\n",
    "model.save(\"FacialExpressionModel.h5\")"
   ]
  },
  {
   "cell_type": "code",
   "execution_count": null,
   "metadata": {
    "id": "_anLO5GWadh1"
   },
   "outputs": [],
   "source": [
    "# Save Label Encoder \n",
    "import pickle\n",
    "\n",
    "def save_object(obj , name):\n",
    "    pickle_obj = open(f\"{name}.pck\",\"wb\")\n",
    "    pickle.dump(obj, pickle_obj)\n",
    "    pickle_obj.close()"
   ]
  },
  {
   "cell_type": "code",
   "execution_count": null,
   "metadata": {
    "id": "5GiwShNva4Z4"
   },
   "outputs": [],
   "source": [
    "save_object(Le, \"LabelEncoder\")"
   ]
  }
 ],
 "metadata": {
  "colab": {
   "authorship_tag": "ABX9TyMIIeNnDInrgPZSNzeJl6is",
   "collapsed_sections": [],
   "name": "Correct_ExpressionRecognition_Training.ipynb",
   "provenance": []
  },
  "kernelspec": {
   "display_name": "Python 3",
   "language": "python",
   "name": "python3"
  },
  "language_info": {
   "codemirror_mode": {
    "name": "ipython",
    "version": 3
   },
   "file_extension": ".py",
   "mimetype": "text/x-python",
   "name": "python",
   "nbconvert_exporter": "python",
   "pygments_lexer": "ipython3",
   "version": "3.12.7"
  }
 },
 "nbformat": 4,
 "nbformat_minor": 1
}
